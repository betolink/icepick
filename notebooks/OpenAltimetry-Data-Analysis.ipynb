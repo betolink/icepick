{
 "cells": [
  {
   "cell_type": "markdown",
   "metadata": {},
   "source": [
    "## OpenAltimetry IceSat 2 Workflows\n",
    "\n",
    "### Overview\n",
    "\n",
    "This notebook uses [ATL03](https://nsidc.org/data/ATL03/versions/1) data from the IceSat 2 mission via the OpenAltimetry API for subsetting. This API enable users to select a particular region of interest and get pre-processed photon data wihtout the need to deal with big HDF files.\n",
    "\n",
    "### Instructions\n",
    "\n",
    "The only thing you need for this notebook to work is a parameter's list that's available on the OpenAltimetry photon chart, paste that string as the OA_REFERENCE_URL and start visualizing your data!\n",
    "\n",
    "Note that this notebook already has the Python libraries that you might need to do data analysis such as geopandas, plotly, fiona, shapely and more!"
   ]
  },
  {
   "cell_type": "code",
   "execution_count": null,
   "metadata": {},
   "outputs": [],
   "source": [
    "import numpy as np\n",
    "import pandas as pd\n",
    "import json\n",
    "import geopandas as gpd\n",
    "import matplotlib.pyplot as plt\n",
    "from shapely.geometry import Point, Polygon\n",
    "import requests\n",
    "import pyproj\n",
    "import math\n",
    "import plotly.graph_objects as go\n",
    "from plotly.offline import iplot\n",
    "\n",
    "\n",
    "# Paste the OpenAltimetry reference URL here\n",
    "OA_REFERENCE_URL = 'date=2019-06-26&miny=40.90704817170478&maxy=41.01045646763791&minx=-110.49699679621983&maxx=-110.36149473643962&beamName=gt1l&beamName=gt1r&beamName=gt2l&beamName=gt2r&beamName=gt3l&beamName=gt3r&trackId=1362'\n",
    "\n",
    "\n",
    "# We populate a list with the photon data using the OpenAltimetry API, no HDF! \n",
    "OA_URL = 'https://openaltimetry.org/data/api/icesat2/atl03?client=jupyter&outputFormat=json&' + OA_REFERENCE_URL\n",
    "OA_PHOTONS = ['Noise', 'Low', 'Medium', 'High']\n",
    "df_beams = []\n",
    "oa_plots = []\n",
    "\n",
    "def getPhotonData():\n",
    "    series = []\n",
    "    b_url = OA_URL\n",
    "    print('Requesting all beams')\n",
    "    r = requests.get(b_url)\n",
    "    data = r.json()\n",
    "    return data\n",
    "\n",
    "        \n",
    "photon_cloud = getPhotonData()\n",
    "\n",
    "for beam in photon_cloud:\n",
    "    for photons in beam['series']:\n",
    "        if any(word in photons['name'] for word in OA_PHOTONS):\n",
    "            series = []\n",
    "            for p in photons['data']:\n",
    "                series.append({\n",
    "                    'lat': p[0],\n",
    "                    'lon': p[1],\n",
    "                    'h': p[2]\n",
    "                })\n",
    "            if (len(series) > 0):\n",
    "                df = pd.DataFrame.from_dict(series)\n",
    "                df.name = beam['beam_name'] + ' ' + photons['name']\n",
    "                df_beams.append(df)\n",
    "\n",
    "for df in df_beams:\n",
    "    oa_plots.append(go.Scatter3d(name=df.name, x=df['lat'], y=df['lon'], z=df['h'], mode='markers',\n",
    "                                    marker=dict(\n",
    "                                        size=1,\n",
    "                                        color=df['h'],\n",
    "                                        colorscale='Viridis',   # choose a colorscale\n",
    "                                        opacity=0.8\n",
    "                                    )\n",
    "                                )\n",
    "                   )\n",
    "    \n",
    "\n"
   ]
  },
  {
   "cell_type": "code",
   "execution_count": null,
   "metadata": {},
   "outputs": [],
   "source": [
    "layout = go.Layout(\n",
    "    width=900,\n",
    "    height=600,\n",
    "    scene = dict(aspectmode = 'manual', aspectratio =dict(x=1, y=1, z=0.5),\n",
    "                 xaxis=dict(title='Latitude'), yaxis=dict(title='Longitude'), zaxis=dict(title='Elevation (m)'))\n",
    ")\n",
    "\n",
    "fig = go.Figure(data=oa_plots, layout=layout)  \n",
    "\n",
    "iplot(fig)"
   ]
  },
  {
   "cell_type": "code",
   "execution_count": null,
   "metadata": {},
   "outputs": [],
   "source": [
    "# Now we can get a histogram of the beam's elevation and their description\n",
    "for df in df_beams:\n",
    "    print(df.describe())\n",
    "    df.hist('h', bins=128)\n",
    "    "
   ]
  }
 ],
 "metadata": {
  "kernelspec": {
   "display_name": "Python 3",
   "language": "python",
   "name": "python3"
  },
  "language_info": {
   "codemirror_mode": {
    "name": "ipython",
    "version": 3
   },
   "file_extension": ".py",
   "mimetype": "text/x-python",
   "name": "python",
   "nbconvert_exporter": "python",
   "pygments_lexer": "ipython3",
   "version": "3.7.3"
  }
 },
 "nbformat": 4,
 "nbformat_minor": 4
}
