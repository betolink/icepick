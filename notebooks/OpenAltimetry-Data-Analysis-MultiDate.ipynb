{
 "cells": [
  {
   "cell_type": "markdown",
   "metadata": {},
   "source": [
    "## OpenAltimetry IceSat 2 Workflows\n",
    "\n",
    "### Overview\n",
    "\n",
    "This notebook uses [ATL03](https://nsidc.org/data/ATL03/versions/1) data from the IceSat 2 mission via the OpenAltimetry API for subsetting. This API enable users to select a particular region of interest and get pre-processed photon data wihtout the need to deal with big HDF files.\n",
    "\n",
    "### Instructions\n",
    "\n",
    "The only thing you need for this notebook to work is a parameter's list that's available on the OpenAltimetry photon chart, paste that string as the OA_REFERENCE_URL and start visualizing your data!"
   ]
  },
  {
   "cell_type": "code",
   "execution_count": null,
   "metadata": {},
   "outputs": [],
   "source": [
    "import numpy as np\n",
    "import pandas as pd\n",
    "import json\n",
    "import geopandas as gpd\n",
    "import matplotlib.pyplot as plt\n",
    "from shapely.geometry import Point, Polygon\n",
    "import requests\n",
    "import pyproj\n",
    "from urllib import parse \n",
    "import math\n",
    "import plotly.graph_objects as go\n",
    "from plotly.offline import iplot\n",
    "\n",
    "\n",
    "# Paste the OpenAltimetry reference values here for repeated pass\n",
    "OA_BBOX = 'minx=-41.3228&miny=-78.9439&maxx=-39.0422&maxy=-78.4981'\n",
    "OA_TRACK = '314'\n",
    "OA_DATES = ['2018-10-19', '2019-01-18']\n",
    "# PLOTTED_BEAMS = [1,2,3,4,5,6]\n",
    "PLOTTED_BEAMS = [1,2]\n",
    "# PHOTONS = ['Noise', 'Low', 'Medium', 'High']\n",
    "PHOTONS = ['Medium', 'High']\n",
    "\n",
    "\n",
    "# We populate a list with photon data using the OpenAltimetry API\n",
    "df_beams = []\n",
    "oa_plots = []\n",
    "COLOR_SCALES = ['Viridis', 'Jet', 'Cividis', 'Electric']\n",
    "# PHOTONS = ['Noise', 'Low', 'Medium', 'High']\n",
    "\n",
    "\n",
    "def getPhotonData(date, track):\n",
    "    OA_URL = 'https://openaltimetry.org/data/icesat2/getPhotonData?' + OA_BBOX + '&trackId=' + track + '&date=' + date\n",
    "    series = []\n",
    "    for beam in PLOTTED_BEAMS:\n",
    "        b_url = OA_URL + '&beam=' + str(beam)\n",
    "        r = requests.get(b_url)\n",
    "        data = r.json()\n",
    "        print('Requesting Beam {} for date: {}'.format(beam, date))\n",
    "        series.append(data)\n",
    "    return series\n",
    "\n",
    "# Main loop\n",
    "color_index = -1\n",
    "for td in OA_DATES:\n",
    "    photon_cloud = getPhotonData(td, OA_TRACK)\n",
    "    color_index +=1\n",
    "    t_index = 0\n",
    "    for track in photon_cloud:\n",
    "        for photons in track['series']:\n",
    "            if any(word in photons['name'] for word in PHOTONS):\n",
    "                series = []\n",
    "                for p in photons['data']:\n",
    "                    series.append({\n",
    "                        'lat': p[0],\n",
    "                        'lon': p[2],\n",
    "                        'h': p[1],\n",
    "                        'date': td,\n",
    "                        'beam': PLOTTED_BEAMS[t_index]\n",
    "                    })\n",
    "                if (len(series) > 0):\n",
    "                    df = pd.DataFrame.from_dict(series)\n",
    "                    df.name = td + ' beam ' + str(PLOTTED_BEAMS[t_index]) + ' ' + photons['name']\n",
    "                    df.colorscale = COLOR_SCALES[color_index]\n",
    "                    df_beams.append(df)\n",
    "        t_index +=1\n",
    "\n",
    "for df in df_beams:\n",
    "    oa_plots.append(go.Scatter3d(name=df.name, x=df['lat'], y=df['lon'], z=df['h'], mode='markers',\n",
    "                                    marker=dict(\n",
    "                                        size=1,\n",
    "                                        color=df['h'],\n",
    "                                        colorscale=df.colorscale,   # choose a colorscale\n",
    "                                        opacity=0.8\n",
    "                                    )\n",
    "                                )\n",
    "                   )"
   ]
  },
  {
   "cell_type": "code",
   "execution_count": null,
   "metadata": {},
   "outputs": [],
   "source": [
    "\n",
    "layout = go.Layout(\n",
    "    width=900,\n",
    "    height=600,\n",
    "    scene = dict(aspectmode = 'manual', aspectratio =dict(x=1, y=1, z=0.5),\n",
    "                 xaxis=dict(title='Latitude'), yaxis=dict(title='Longitude'), zaxis=dict(title='Elevation (m)'))\n",
    ")\n",
    "\n",
    "fig = go.Figure(data=oa_plots, layout=layout)  \n",
    "\n",
    "iplot(fig)"
   ]
  },
  {
   "cell_type": "markdown",
   "metadata": {},
   "source": [
    "### Now let's do some science with the data we already have in Pandas"
   ]
  },
  {
   "cell_type": "code",
   "execution_count": null,
   "metadata": {},
   "outputs": [],
   "source": [
    "# Elevation histofgrams\n",
    "series_df = pd.concat(df_beams)\n",
    "\n",
    "b_df = pd.DataFrame(series_df[(series_df.date == '2018-10-19') & (series_df.beam == 1)])\n",
    "a_df = pd.DataFrame(series_df[(series_df.date == '2019-01-18') & (series_df.beam == 2)])\n",
    "\n",
    "print(b_df.head())\n",
    "print(a_df.head())\n",
    "\n"
   ]
  }
 ],
 "metadata": {
  "kernelspec": {
   "display_name": "Python 3",
   "language": "python",
   "name": "python3"
  },
  "language_info": {
   "codemirror_mode": {
    "name": "ipython",
    "version": 3
   },
   "file_extension": ".py",
   "mimetype": "text/x-python",
   "name": "python",
   "nbconvert_exporter": "python",
   "pygments_lexer": "ipython3",
   "version": "3.7.3"
  }
 },
 "nbformat": 4,
 "nbformat_minor": 2
}
